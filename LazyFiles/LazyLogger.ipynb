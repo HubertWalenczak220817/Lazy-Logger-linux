{
 "cells": [
  {
   "cell_type": "code",
   "execution_count": 5,
   "metadata": {},
   "outputs": [],
   "source": [
    "import openai\n",
    "import pandas as pd\n",
    "global listhehe\n",
    "listhehe= []\n"
   ]
  },
  {
   "cell_type": "code",
   "execution_count": 6,
   "metadata": {},
   "outputs": [],
   "source": [
    "openai.api_key = \"YOUR OWN API KEY\"\n",
    "model_engine = \"gpt-3.5-turbo\""
   ]
  },
  {
   "cell_type": "code",
   "execution_count": 7,
   "metadata": {},
   "outputs": [],
   "source": [
    "def get_bulletpoints(link):\n",
    "    global listhehe\n",
    "    response = openai.ChatCompletion.create(\n",
    "    model='gpt-3.5-turbo',\n",
    "    messages=[\n",
    "        {\"role\": \"system\", \"content\": \"You are a helpful assistant.\"},\n",
    "        {\"role\": \"user\", \"content\": \"Extract 3 to 5 brief ( up to 8 words ) bulletpoints but with no indexing that can pass as tasks from the following link:\" + str(link)},\n",
    "    ])\n",
    "    message = response.choices[0]['message']\n",
    "    prompt = message['content']\n",
    "    listhehe = message['content'].splitlines()\n",
    "    return prompt\n",
    "    "
   ]
  },
  {
   "cell_type": "code",
   "execution_count": 8,
   "metadata": {},
   "outputs": [
    {
     "name": "stdout",
     "output_type": "stream",
     "text": [
      "['- Define Convolutional Neural Networks (CNN)', '- Understand the architecture of a CNN', '- Implement a CNN using Keras', '- Train a CNN on a dataset', '- Fine-tune a pre-trained CNN model']\n"
     ]
    }
   ],
   "source": [
    "prompt = get_bulletpoints('https://adsai.buas.nl/Study%20Content/DeepLearning/11.%20CNN%20day%201.html')\n",
    "print(listhehe)"
   ]
  },
  {
   "cell_type": "code",
   "execution_count": 9,
   "metadata": {},
   "outputs": [],
   "source": [
    "template = ['Date', 'Status', 'Task' ,'Description/Planning','Task Type','Most suited ILO', 'Est Hours',\n",
    "             'Actual Hours','Diff','Evidence link','Task reflection / notes']\n",
    "df = pd.DataFrame(columns = template)"
   ]
  },
  {
   "cell_type": "code",
   "execution_count": 10,
   "metadata": {},
   "outputs": [
    {
     "name": "stderr",
     "output_type": "stream",
     "text": [
      "C:\\Users\\bogda\\AppData\\Local\\Temp\\ipykernel_30560\\1861502454.py:1: FutureWarning: The frame.append method is deprecated and will be removed from pandas in a future version. Use pandas.concat instead.\n",
      "  df = df.append(pd.DataFrame(listhehe, columns=['Description/Planning']), ignore_index=True)\n"
     ]
    }
   ],
   "source": [
    "df = df.append(pd.DataFrame(listhehe, columns=['Description/Planning']), ignore_index=True)"
   ]
  },
  {
   "cell_type": "code",
   "execution_count": 11,
   "metadata": {},
   "outputs": [],
   "source": [
    "def get_hours(prompt):\n",
    "    response = openai.ChatCompletion.create(\n",
    "    model='gpt-3.5-turbo',\n",
    "    messages=[\n",
    "        {\"role\": \"system\", \"content\": \"You are a helpful assistant.\"},\n",
    "        {\"role\": \"user\", \"content\": 'Give me a simple non-indexed list that only contains time values in hours that add up to 8 hours for the following tasks,please do not include the tasks and put every entry in the list on a different line and also do not include the word \"hours\"' + str(prompt)},\n",
    "    ])\n",
    "    message = response.choices[0]['message']\n",
    "    hourlist = message['content']\n",
    "    return hourlist\n",
    "\n",
    "hourlist = get_hours(prompt)\n",
    "hourlist = hourlist.splitlines()\n",
    "\n"
   ]
  },
  {
   "cell_type": "code",
   "execution_count": 12,
   "metadata": {},
   "outputs": [
    {
     "data": {
      "text/plain": [
       "\" listhehe_df['Task Description/Planning'] = listhehe_df['Task Description/Planning'].str.replace('\\n', '')\\nhourlist_df['Est Hours'] = hourlist_df['Est Hours'].str.replace('\\n', '') \""
      ]
     },
     "execution_count": 12,
     "metadata": {},
     "output_type": "execute_result"
    }
   ],
   "source": [
    "listhehe_df = pd.DataFrame()\n",
    "listhehe_df[\"Description/Planning\"] = listhehe\n",
    "hourlist_df = pd.DataFrame()\n",
    "hourlist_df['Est Hours'] = hourlist\n",
    "\n",
    "listhehe_df.reset_index(drop = True, inplace = True)\n",
    "hourlist_df.reset_index(drop = True, inplace = True)\n",
    "\n",
    "\"\"\" listhehe_df['Task Description/Planning'] = listhehe_df['Task Description/Planning'].str.replace('\\n', '')\n",
    "hourlist_df['Est Hours'] = hourlist_df['Est Hours'].str.replace('\\n', '') \"\"\"\n"
   ]
  },
  {
   "cell_type": "code",
   "execution_count": 13,
   "metadata": {},
   "outputs": [],
   "source": [
    "yes = pd.concat([df, listhehe_df], axis = 1, sort = False).drop_duplicates()\n",
    "yes = pd.concat([yes, hourlist_df], axis = 1, sort = False).drop_duplicates()"
   ]
  },
  {
   "cell_type": "code",
   "execution_count": 14,
   "metadata": {},
   "outputs": [],
   "source": [
    "yes = yes.loc[:,~yes.columns.duplicated()]"
   ]
  },
  {
   "cell_type": "code",
   "execution_count": 15,
   "metadata": {},
   "outputs": [],
   "source": [
    "yes['Est Hours'] = hourlist_df['Est Hours']\n",
    "yes['Actual Hours'] = hourlist_df['Est Hours']\n",
    "yes['Diff'] = 0\n",
    "yes['Task'] = 'Max 4 hours tasks'"
   ]
  },
  {
   "cell_type": "code",
   "execution_count": 16,
   "metadata": {},
   "outputs": [],
   "source": [
    "yes['Actual Hours'] = yes['Actual Hours'].astype(float)\n",
    "yes['Est Hours'] = yes['Est Hours'].astype(float)"
   ]
  },
  {
   "cell_type": "code",
   "execution_count": 17,
   "metadata": {},
   "outputs": [],
   "source": [
    "yes = yes.reset_index(drop=True)"
   ]
  },
  {
   "cell_type": "code",
   "execution_count": 18,
   "metadata": {},
   "outputs": [
    {
     "data": {
      "text/html": [
       "<div>\n",
       "<style scoped>\n",
       "    .dataframe tbody tr th:only-of-type {\n",
       "        vertical-align: middle;\n",
       "    }\n",
       "\n",
       "    .dataframe tbody tr th {\n",
       "        vertical-align: top;\n",
       "    }\n",
       "\n",
       "    .dataframe thead th {\n",
       "        text-align: right;\n",
       "    }\n",
       "</style>\n",
       "<table border=\"1\" class=\"dataframe\">\n",
       "  <thead>\n",
       "    <tr style=\"text-align: right;\">\n",
       "      <th></th>\n",
       "      <th>Date</th>\n",
       "      <th>Status</th>\n",
       "      <th>Task</th>\n",
       "      <th>Description/Planning</th>\n",
       "      <th>Task Type</th>\n",
       "      <th>Most suited ILO</th>\n",
       "      <th>Est Hours</th>\n",
       "      <th>Actual Hours</th>\n",
       "      <th>Diff</th>\n",
       "      <th>Evidence link</th>\n",
       "      <th>Task reflection / notes</th>\n",
       "    </tr>\n",
       "  </thead>\n",
       "  <tbody>\n",
       "    <tr>\n",
       "      <th>0</th>\n",
       "      <td>NaN</td>\n",
       "      <td>NaN</td>\n",
       "      <td>Max 4 hours tasks</td>\n",
       "      <td>- Define Convolutional Neural Networks (CNN)</td>\n",
       "      <td>NaN</td>\n",
       "      <td>NaN</td>\n",
       "      <td>1.0</td>\n",
       "      <td>1.0</td>\n",
       "      <td>0</td>\n",
       "      <td>NaN</td>\n",
       "      <td>NaN</td>\n",
       "    </tr>\n",
       "    <tr>\n",
       "      <th>1</th>\n",
       "      <td>NaN</td>\n",
       "      <td>NaN</td>\n",
       "      <td>Max 4 hours tasks</td>\n",
       "      <td>- Understand the architecture of a CNN</td>\n",
       "      <td>NaN</td>\n",
       "      <td>NaN</td>\n",
       "      <td>2.0</td>\n",
       "      <td>2.0</td>\n",
       "      <td>0</td>\n",
       "      <td>NaN</td>\n",
       "      <td>NaN</td>\n",
       "    </tr>\n",
       "    <tr>\n",
       "      <th>2</th>\n",
       "      <td>NaN</td>\n",
       "      <td>NaN</td>\n",
       "      <td>Max 4 hours tasks</td>\n",
       "      <td>- Implement a CNN using Keras</td>\n",
       "      <td>NaN</td>\n",
       "      <td>NaN</td>\n",
       "      <td>1.5</td>\n",
       "      <td>1.5</td>\n",
       "      <td>0</td>\n",
       "      <td>NaN</td>\n",
       "      <td>NaN</td>\n",
       "    </tr>\n",
       "    <tr>\n",
       "      <th>3</th>\n",
       "      <td>NaN</td>\n",
       "      <td>NaN</td>\n",
       "      <td>Max 4 hours tasks</td>\n",
       "      <td>- Train a CNN on a dataset</td>\n",
       "      <td>NaN</td>\n",
       "      <td>NaN</td>\n",
       "      <td>2.5</td>\n",
       "      <td>2.5</td>\n",
       "      <td>0</td>\n",
       "      <td>NaN</td>\n",
       "      <td>NaN</td>\n",
       "    </tr>\n",
       "    <tr>\n",
       "      <th>4</th>\n",
       "      <td>NaN</td>\n",
       "      <td>NaN</td>\n",
       "      <td>Max 4 hours tasks</td>\n",
       "      <td>- Fine-tune a pre-trained CNN model</td>\n",
       "      <td>NaN</td>\n",
       "      <td>NaN</td>\n",
       "      <td>1.0</td>\n",
       "      <td>1.0</td>\n",
       "      <td>0</td>\n",
       "      <td>NaN</td>\n",
       "      <td>NaN</td>\n",
       "    </tr>\n",
       "  </tbody>\n",
       "</table>\n",
       "</div>"
      ],
      "text/plain": [
       "  Date Status               Task  \\\n",
       "0  NaN    NaN  Max 4 hours tasks   \n",
       "1  NaN    NaN  Max 4 hours tasks   \n",
       "2  NaN    NaN  Max 4 hours tasks   \n",
       "3  NaN    NaN  Max 4 hours tasks   \n",
       "4  NaN    NaN  Max 4 hours tasks   \n",
       "\n",
       "                           Description/Planning Task Type Most suited ILO  \\\n",
       "0  - Define Convolutional Neural Networks (CNN)       NaN             NaN   \n",
       "1        - Understand the architecture of a CNN       NaN             NaN   \n",
       "2                 - Implement a CNN using Keras       NaN             NaN   \n",
       "3                    - Train a CNN on a dataset       NaN             NaN   \n",
       "4           - Fine-tune a pre-trained CNN model       NaN             NaN   \n",
       "\n",
       "   Est Hours  Actual Hours  Diff Evidence link Task reflection / notes  \n",
       "0        1.0           1.0     0           NaN                     NaN  \n",
       "1        2.0           2.0     0           NaN                     NaN  \n",
       "2        1.5           1.5     0           NaN                     NaN  \n",
       "3        2.5           2.5     0           NaN                     NaN  \n",
       "4        1.0           1.0     0           NaN                     NaN  "
      ]
     },
     "execution_count": 18,
     "metadata": {},
     "output_type": "execute_result"
    }
   ],
   "source": [
    "yes"
   ]
  },
  {
   "cell_type": "code",
   "execution_count": 20,
   "metadata": {},
   "outputs": [],
   "source": [
    "yes.to_excel('C:/Users/bogda/Documents/GitHub/Lazy-Logger/LazyData_Save.xlsx', index= False )"
   ]
  }
 ],
 "metadata": {
  "kernelspec": {
   "display_name": "Python 3",
   "language": "python",
   "name": "python3"
  },
  "language_info": {
   "codemirror_mode": {
    "name": "ipython",
    "version": 3
   },
   "file_extension": ".py",
   "mimetype": "text/x-python",
   "name": "python",
   "nbconvert_exporter": "python",
   "pygments_lexer": "ipython3",
   "version": "3.10.4"
  },
  "orig_nbformat": 4,
  "vscode": {
   "interpreter": {
    "hash": "6d200ada81f095913a567635bf9e0aac58bf90d84740f260f67b7d6a2f302835"
   }
  }
 },
 "nbformat": 4,
 "nbformat_minor": 2
}
